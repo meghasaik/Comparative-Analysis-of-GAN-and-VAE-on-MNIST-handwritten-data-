{
  "nbformat": 4,
  "nbformat_minor": 0,
  "metadata": {
    "colab": {
      "name": "GAN_modelproject.ipynb",
      "provenance": [],
      "authorship_tag": "ABX9TyO+xl3zeEeTGyxDywUwk/Cw",
      "include_colab_link": true
    },
    "kernelspec": {
      "name": "python3",
      "display_name": "Python 3"
    }
  },
  "cells": [
    {
      "cell_type": "markdown",
      "metadata": {
        "id": "view-in-github",
        "colab_type": "text"
      },
      "source": [
        "<a href=\"https://colab.research.google.com/github/meghasaik/Comparative-Analysis-of-GAN-and-VAE-on-MNIST-handwritten-data-/blob/main/GAN_modelproject.ipynb\" target=\"_parent\"><img src=\"https://colab.research.google.com/assets/colab-badge.svg\" alt=\"Open In Colab\"/></a>"
      ]
    },
    {
      "cell_type": "code",
      "metadata": {
        "id": "_nWdqpAUFAjF"
      },
      "source": [
        "import tensorflow as tf"
      ],
      "execution_count": 23,
      "outputs": []
    },
    {
      "cell_type": "code",
      "metadata": {
        "id": "fd6rvIl8FOBK"
      },
      "source": [
        "import glob\r\n",
        "import imageio\r\n",
        "import matplotlib.pyplot as plt\r\n",
        "import numpy as np\r\n",
        "import os\r\n",
        "import PIL\r\n",
        "from tensorflow.keras import layers\r\n",
        "import time\r\n",
        "\r\n",
        "from IPython import display"
      ],
      "execution_count": 22,
      "outputs": []
    },
    {
      "cell_type": "code",
      "metadata": {
        "colab": {
          "base_uri": "https://localhost:8080/"
        },
        "id": "kXJRu541FQJp",
        "outputId": "fa63df3b-1619-4ebf-84cb-8bccbd1b4b91"
      },
      "source": [
        "(train_images, train_labels), (_, _) = tf.keras.datasets.mnist.load_data()"
      ],
      "execution_count": 24,
      "outputs": [
        {
          "output_type": "stream",
          "text": [
            "Downloading data from https://storage.googleapis.com/tensorflow/tf-keras-datasets/mnist.npz\n",
            "11493376/11490434 [==============================] - 0s 0us/step\n"
          ],
          "name": "stdout"
        }
      ]
    },
    {
      "cell_type": "code",
      "metadata": {
        "id": "frPblByZFSyP"
      },
      "source": [
        "train_images = train_images.reshape(train_images.shape[0], 28, 28, 1).astype('float32')\r\n",
        "train_images = (train_images - 127.5) / 127.5"
      ],
      "execution_count": 25,
      "outputs": []
    },
    {
      "cell_type": "code",
      "metadata": {
        "id": "p5bcnqd-FS6l"
      },
      "source": [
        "BUFFER_SIZE = 60000\r\n",
        "BATCH_SIZE = 256"
      ],
      "execution_count": 26,
      "outputs": []
    },
    {
      "cell_type": "code",
      "metadata": {
        "id": "sh5dGYAeFTAE"
      },
      "source": [
        "train_dataset = tf.data.Dataset.from_tensor_slices(train_images).shuffle(BUFFER_SIZE).batch(BATCH_SIZE)"
      ],
      "execution_count": 27,
      "outputs": []
    },
    {
      "cell_type": "code",
      "metadata": {
        "id": "mkekmtoWFbKe"
      },
      "source": [
        "def make_generator_model():\r\n",
        "\r\n",
        "    model = tf.keras.Sequential()\r\n",
        "    model.add(tf.keras.layers.Dense(7*7*256, use_bias=False, input_shape=(100,)))\r\n",
        "    model.add(tf.keras.layers.BatchNormalization())\r\n",
        "    model.add(tf.keras.layers.LeakyReLU())\r\n",
        "      \r\n",
        "    model.add(tf.keras.layers.Reshape((7, 7, 256)))\r\n",
        "    assert model.output_shape == (None, 7, 7, 256) \r\n",
        "    \r\n",
        "    model.add(tf.keras.layers.Conv2DTranspose(128, (5, 5), strides=(1, 1), padding='same', use_bias=False))\r\n",
        "    assert model.output_shape == (None, 7, 7, 128)  \r\n",
        "    model.add(tf.keras.layers.BatchNormalization())\r\n",
        "    model.add(tf.keras.layers.LeakyReLU())\r\n",
        "\r\n",
        "    model.add(tf.keras.layers.Conv2DTranspose(64, (5, 5), strides=(2, 2), padding='same', use_bias=False))\r\n",
        "    assert model.output_shape == (None, 14, 14, 64)    \r\n",
        "    model.add(tf.keras.layers.BatchNormalization())\r\n",
        "    model.add(tf.keras.layers.LeakyReLU())\r\n",
        "\r\n",
        "    model.add(tf.keras.layers.Conv2DTranspose(1, (5, 5), strides=(2, 2), padding='same', use_bias=False, activation='tanh'))\r\n",
        "    assert model.output_shape == (None, 28, 28, 1)\r\n",
        "    \r\n",
        "    return model"
      ],
      "execution_count": 34,
      "outputs": []
    },
    {
      "cell_type": "code",
      "metadata": {
        "id": "rSnaH9WQFsAc"
      },
      "source": [
        "def make_discriminator_model():\r\n",
        "    model = tf.keras.Sequential()\r\n",
        "    model.add(tf.keras.layers.Conv2D(64, (5, 5), strides=(2, 2), padding='same'))\r\n",
        "    model.add(tf.keras.layers.LeakyReLU())\r\n",
        "    model.add(tf.keras.layers.Dropout(0.3))\r\n",
        "      \r\n",
        "    model.add(tf.keras.layers.Conv2D(128, (5, 5), strides=(2, 2), padding='same'))\r\n",
        "    model.add(tf.keras.layers.LeakyReLU())\r\n",
        "    model.add(tf.keras.layers.Dropout(0.3))\r\n",
        "       \r\n",
        "    model.add(tf.keras.layers.Flatten())\r\n",
        "    model.add(tf.keras.layers.Dense(1))\r\n",
        "\r\n",
        "    return model"
      ],
      "execution_count": 35,
      "outputs": []
    },
    {
      "cell_type": "code",
      "metadata": {
        "colab": {
          "base_uri": "https://localhost:8080/",
          "height": 283
        },
        "id": "y5-StXdmFoxC",
        "outputId": "c1b57ef3-d835-4d6a-f43d-928e0800946a"
      },
      "source": [
        "generator = make_generator_model()\r\n",
        "\r\n",
        "discriminator = make_discriminator_model()\r\n",
        "\r\n",
        "noise = tf.random.normal([1, 100])\r\n",
        "generated_image = generator(noise, training=False)\r\n",
        "\r\n",
        "plt.imshow(generated_image[0, :, :, 0], cmap='gray')"
      ],
      "execution_count": 36,
      "outputs": [
        {
          "output_type": "execute_result",
          "data": {
            "text/plain": [
              "<matplotlib.image.AxesImage at 0x7fd76648e780>"
            ]
          },
          "metadata": {
            "tags": []
          },
          "execution_count": 36
        },
        {
          "output_type": "display_data",
          "data": {
            "image/png": "[encoded data removed]",
            "text/plain": [
              "<Figure size 432x288 with 1 Axes>"
            ]
          },
          "metadata": {
            "tags": [],
            "needs_background": "light"
          }
        }
      ]
    },
    {
      "cell_type": "code",
      "metadata": {
        "colab": {
          "base_uri": "https://localhost:8080/"
        },
        "id": "MoBjLOw_Furg",
        "outputId": "f6017a41-2902-4a9e-e933-08717e628f7b"
      },
      "source": [
        "decision = discriminator(generated_image)\r\n",
        "print (decision)"
      ],
      "execution_count": 37,
      "outputs": [
        {
          "output_type": "stream",
          "text": [
            "tf.Tensor([[0.00080271]], shape=(1, 1), dtype=float32)\n"
          ],
          "name": "stdout"
        }
      ]
    },
    {
      "cell_type": "code",
      "metadata": {
        "colab": {
          "base_uri": "https://localhost:8080/"
        },
        "id": "7jQGOb2Dkyob",
        "outputId": "ef798a61-8f17-4d53-e6bd-ffdd1c3fc8df"
      },
      "source": [
        "discriminator.summary()"
      ],
      "execution_count": 38,
      "outputs": [
        {
          "output_type": "stream",
          "text": [
            "Model: \"sequential_11\"\n",
            "_________________________________________________________________\n",
            "Layer (type)                 Output Shape              Param #   \n",
            "=================================================================\n",
            "conv2d_12 (Conv2D)           (1, 14, 14, 64)           1664      \n",
            "_________________________________________________________________\n",
            "leaky_re_lu_27 (LeakyReLU)   (1, 14, 14, 64)           0         \n",
            "_________________________________________________________________\n",
            "dropout_12 (Dropout)         (1, 14, 14, 64)           0         \n",
            "_________________________________________________________________\n",
            "conv2d_13 (Conv2D)           (1, 7, 7, 128)            204928    \n",
            "_________________________________________________________________\n",
            "leaky_re_lu_28 (LeakyReLU)   (1, 7, 7, 128)            0         \n",
            "_________________________________________________________________\n",
            "dropout_13 (Dropout)         (1, 7, 7, 128)            0         \n",
            "_________________________________________________________________\n",
            "flatten_6 (Flatten)          (1, 6272)                 0         \n",
            "_________________________________________________________________\n",
            "dense_11 (Dense)             (1, 1)                    6273      \n",
            "=================================================================\n",
            "Total params: 212,865\n",
            "Trainable params: 212,865\n",
            "Non-trainable params: 0\n",
            "_________________________________________________________________\n"
          ],
          "name": "stdout"
        }
      ]
    },
    {
      "cell_type": "code",
      "metadata": {
        "id": "YgxwdnoXFxEj"
      },
      "source": [
        "cross_entropy = tf.keras.losses.BinaryCrossentropy(from_logits=True)"
      ],
      "execution_count": null,
      "outputs": []
    },
    {
      "cell_type": "code",
      "metadata": {
        "id": "7UErGK1EFzHS"
      },
      "source": [
        "def discriminator_loss(real_output, generator_output):\r\n",
        "    real_loss = cross_entropy(tf.ones_like(real_output), real_output)\r\n",
        "    generator_loss = cross_entropy(tf.zeros_like(generator_output), generator_output)\r\n",
        "    total_loss = real_loss + generator_loss\r\n",
        "    return total_loss\r\n",
        "  \r\n",
        "def generator_loss(generator_output):\r\n",
        "    return cross_entropy(tf.ones_like(generator_output), generator_output)"
      ],
      "execution_count": null,
      "outputs": []
    },
    {
      "cell_type": "code",
      "metadata": {
        "id": "fWnhUSNEFbQY"
      },
      "source": [
        "generator_optimizer = tf.keras.optimizers.Adam(1e-4)\r\n",
        "discriminator_optimizer = tf.keras.optimizers.Adam(1e-4)"
      ],
      "execution_count": null,
      "outputs": []
    },
    {
      "cell_type": "code",
      "metadata": {
        "id": "CsY0o3IyFbT3"
      },
      "source": [
        "EPOCHS = 2000\r\n",
        "noise_dim = 100\r\n",
        "num_examples_to_generate = 16\r\n",
        "\r\n",
        "seed = tf.random.normal([num_examples_to_generate, noise_dim])"
      ],
      "execution_count": null,
      "outputs": []
    },
    {
      "cell_type": "code",
      "metadata": {
        "id": "W42rGulaFbXA"
      },
      "source": [
        "def train_step(images):\r\n",
        "    noise = tf.random.normal([BATCH_SIZE, noise_dim])\r\n",
        "\r\n",
        "    with tf.GradientTape() as gen_tape, tf.GradientTape() as disc_tape:\r\n",
        "      generated_images = generator(noise, training=True)\r\n",
        "\r\n",
        "      real_output = discriminator(images, training=True)\r\n",
        "      generator_output = discriminator(generated_images, training=True)\r\n",
        "\r\n",
        "      gen_loss = generator_loss(generator_output)\r\n",
        "      disc_loss = discriminator_loss(real_output, generator_output)\r\n",
        "\r\n",
        "    gradients_of_generator = gen_tape.gradient(gen_loss, generator.trainable_variables)\r\n",
        "    gradients_of_discriminator = disc_tape.gradient(disc_loss, discriminator.trainable_variables)\r\n",
        "\r\n",
        "    generator_optimizer.apply_gradients(zip(gradients_of_generator, generator.trainable_variables))\r\n",
        "    discriminator_optimizer.apply_gradients(zip(gradients_of_discriminator, discriminator.trainable_variables))"
      ],
      "execution_count": null,
      "outputs": []
    },
    {
      "cell_type": "code",
      "metadata": {
        "id": "c9aw-9A-HZYo"
      },
      "source": [
        "def train(dataset, epochs):\r\n",
        "  for epoch in range(epochs):\r\n",
        "    start = time.time()\r\n",
        "\r\n",
        "    for image in dataset:\r\n",
        "      train_step(image)\r\n",
        "\r\n",
        "    \r\n",
        "    display.clear_output(wait=True)\r\n",
        "    generate_and_save_images(generator,\r\n",
        "                             epoch + 1,\r\n",
        "                             seed)\r\n",
        "\r\n",
        "    \r\n",
        "    if (epoch + 1) % 15 == 0:\r\n",
        "      checkpoint.save(file_prefix = checkpoint_prefix)\r\n",
        "\r\n",
        "    print ('Time for epoch {} is {} sec'.format(epoch + 1, time.time()-start))\r\n",
        "\r\n",
        "  \r\n",
        "  display.clear_output(wait=True)\r\n",
        "  generate_and_save_images(generator,\r\n",
        "                           epochs,\r\n",
        "                           seed)"
      ],
      "execution_count": null,
      "outputs": []
    },
    {
      "cell_type": "code",
      "metadata": {
        "id": "6B9zhhFjHZcD"
      },
      "source": [
        "def generate_and_save_images(model, epoch, test_input):\r\n",
        "  \r\n",
        "  predictions = model(test_input, training=False)\r\n",
        "\r\n",
        "  fig = plt.figure(figsize=(4,4))\r\n",
        "\r\n",
        "  for i in range(predictions.shape[0]):\r\n",
        "      plt.subplot(4, 4, i+1)\r\n",
        "      plt.imshow(predictions[i, :, :, 0] * 127.5 + 127.5, cmap='gray')\r\n",
        "      plt.axis('off')\r\n",
        "\r\n",
        "  plt.savefig('image_at_epoch_{:04d}.png'.format(epoch))\r\n",
        "  plt.show()"
      ],
      "execution_count": null,
      "outputs": []
    },
    {
      "cell_type": "code",
      "metadata": {
        "id": "e2tac92BHZgl"
      },
      "source": [
        "train(train_dataset, EPOCHS)"
      ],
      "execution_count": null,
      "outputs": []
    },
    {
      "cell_type": "code",
      "metadata": {
        "id": "2mIxCrI3IYJU"
      },
      "source": [
        ""
      ],
      "execution_count": null,
      "outputs": []
    },
    {
      "cell_type": "code",
      "metadata": {
        "id": "MpTefRtMIYTh"
      },
      "source": [
        ""
      ],
      "execution_count": null,
      "outputs": []
    }
  ]
}